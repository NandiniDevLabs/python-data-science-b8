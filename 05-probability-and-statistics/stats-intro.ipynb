{
 "cells": [
  {
   "cell_type": "markdown",
   "metadata": {},
   "source": [
    "# Statistics Intro"
   ]
  },
  {
   "cell_type": "markdown",
   "metadata": {},
   "source": [
    "#\n",
    "Population data -- Complete data -- And hence it is huge -- collection, processing is difficult\n",
    "\n",
    "Sample Data -- piece of population data that is randomly obtained\n",
    "\n",
    "All the statistical analysis happens on this sample data"
   ]
  },
  {
   "cell_type": "markdown",
   "metadata": {},
   "source": [
    "# Data \n",
    "- Numerical\n",
    "    1. Continuous - Ex: 1.0, 1.01, 1.1, 2.0\n",
    "    2. Discrete - Ex: 1, 2, 3\n",
    "- Categorical\n",
    "    1. Nominal - Ex: Gender - Male, Female and Others\n",
    "    2. Ordinal - Ex: Ratings - Excellent, Satisfactory, Poor"
   ]
  },
  {
   "cell_type": "code",
   "execution_count": null,
   "metadata": {
    "vscode": {
     "languageId": "plaintext"
    }
   },
   "outputs": [],
   "source": []
  }
 ],
 "metadata": {
  "language_info": {
   "name": "python"
  }
 },
 "nbformat": 4,
 "nbformat_minor": 2
}
