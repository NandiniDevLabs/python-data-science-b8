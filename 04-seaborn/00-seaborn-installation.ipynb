{
 "cells": [
  {
   "cell_type": "code",
   "execution_count": 1,
   "metadata": {},
   "outputs": [
    {
     "ename": "ModuleNotFoundError",
     "evalue": "No module named 'seaborn'",
     "output_type": "error",
     "traceback": [
      "\u001b[1;31m---------------------------------------------------------------------------\u001b[0m",
      "\u001b[1;31mModuleNotFoundError\u001b[0m                       Traceback (most recent call last)",
      "Cell \u001b[1;32mIn[1], line 1\u001b[0m\n\u001b[1;32m----> 1\u001b[0m \u001b[38;5;28;01mimport\u001b[39;00m \u001b[38;5;21;01mseaborn\u001b[39;00m \u001b[38;5;28;01mas\u001b[39;00m \u001b[38;5;21;01msns\u001b[39;00m\n",
      "\u001b[1;31mModuleNotFoundError\u001b[0m: No module named 'seaborn'"
     ]
    }
   ],
   "source": [
    "import seaborn as sns"
   ]
  },
  {
   "cell_type": "code",
   "execution_count": 2,
   "metadata": {},
   "outputs": [
    {
     "name": "stdout",
     "output_type": "stream",
     "text": [
      "Collecting seaborn\n",
      "  Downloading seaborn-0.13.2-py3-none-any.whl.metadata (5.4 kB)\n",
      "Requirement already satisfied: numpy!=1.24.0,>=1.20 in c:\\users\\vijaya nandini\\documents\\2024_08_datavalley\\2410_git_repos\\python-data-science-b8\\.venv\\lib\\site-packages (from seaborn) (2.1.2)\n",
      "Requirement already satisfied: pandas>=1.2 in c:\\users\\vijaya nandini\\documents\\2024_08_datavalley\\2410_git_repos\\python-data-science-b8\\.venv\\lib\\site-packages (from seaborn) (2.2.3)\n",
      "Requirement already satisfied: matplotlib!=3.6.1,>=3.4 in c:\\users\\vijaya nandini\\documents\\2024_08_datavalley\\2410_git_repos\\python-data-science-b8\\.venv\\lib\\site-packages (from seaborn) (3.9.2)\n",
      "Requirement already satisfied: contourpy>=1.0.1 in c:\\users\\vijaya nandini\\documents\\2024_08_datavalley\\2410_git_repos\\python-data-science-b8\\.venv\\lib\\site-packages (from matplotlib!=3.6.1,>=3.4->seaborn) (1.3.1)\n",
      "Requirement already satisfied: cycler>=0.10 in c:\\users\\vijaya nandini\\documents\\2024_08_datavalley\\2410_git_repos\\python-data-science-b8\\.venv\\lib\\site-packages (from matplotlib!=3.6.1,>=3.4->seaborn) (0.12.1)\n",
      "Requirement already satisfied: fonttools>=4.22.0 in c:\\users\\vijaya nandini\\documents\\2024_08_datavalley\\2410_git_repos\\python-data-science-b8\\.venv\\lib\\site-packages (from matplotlib!=3.6.1,>=3.4->seaborn) (4.54.1)\n",
      "Requirement already satisfied: kiwisolver>=1.3.1 in c:\\users\\vijaya nandini\\documents\\2024_08_datavalley\\2410_git_repos\\python-data-science-b8\\.venv\\lib\\site-packages (from matplotlib!=3.6.1,>=3.4->seaborn) (1.4.7)\n",
      "Requirement already satisfied: packaging>=20.0 in c:\\users\\vijaya nandini\\documents\\2024_08_datavalley\\2410_git_repos\\python-data-science-b8\\.venv\\lib\\site-packages (from matplotlib!=3.6.1,>=3.4->seaborn) (24.1)\n",
      "Requirement already satisfied: pillow>=8 in c:\\users\\vijaya nandini\\documents\\2024_08_datavalley\\2410_git_repos\\python-data-science-b8\\.venv\\lib\\site-packages (from matplotlib!=3.6.1,>=3.4->seaborn) (11.0.0)\n",
      "Requirement already satisfied: pyparsing>=2.3.1 in c:\\users\\vijaya nandini\\documents\\2024_08_datavalley\\2410_git_repos\\python-data-science-b8\\.venv\\lib\\site-packages (from matplotlib!=3.6.1,>=3.4->seaborn) (3.2.0)\n",
      "Requirement already satisfied: python-dateutil>=2.7 in c:\\users\\vijaya nandini\\documents\\2024_08_datavalley\\2410_git_repos\\python-data-science-b8\\.venv\\lib\\site-packages (from matplotlib!=3.6.1,>=3.4->seaborn) (2.9.0.post0)\n",
      "Requirement already satisfied: pytz>=2020.1 in c:\\users\\vijaya nandini\\documents\\2024_08_datavalley\\2410_git_repos\\python-data-science-b8\\.venv\\lib\\site-packages (from pandas>=1.2->seaborn) (2024.2)\n",
      "Requirement already satisfied: tzdata>=2022.7 in c:\\users\\vijaya nandini\\documents\\2024_08_datavalley\\2410_git_repos\\python-data-science-b8\\.venv\\lib\\site-packages (from pandas>=1.2->seaborn) (2024.2)\n",
      "Requirement already satisfied: six>=1.5 in c:\\users\\vijaya nandini\\documents\\2024_08_datavalley\\2410_git_repos\\python-data-science-b8\\.venv\\lib\\site-packages (from python-dateutil>=2.7->matplotlib!=3.6.1,>=3.4->seaborn) (1.16.0)\n",
      "Downloading seaborn-0.13.2-py3-none-any.whl (294 kB)\n",
      "   ---------------------------------------- 0.0/294.9 kB ? eta -:--:--\n",
      "   ---- ---------------------------------- 30.7/294.9 kB 660.6 kB/s eta 0:00:01\n",
      "   ------------ --------------------------- 92.2/294.9 kB 1.3 MB/s eta 0:00:01\n",
      "   -------------------------------------- - 286.7/294.9 kB 2.5 MB/s eta 0:00:01\n",
      "   -------------------------------------- - 286.7/294.9 kB 2.5 MB/s eta 0:00:01\n",
      "   -------------------------------------- - 286.7/294.9 kB 2.5 MB/s eta 0:00:01\n",
      "   -------------------------------------- - 286.7/294.9 kB 2.5 MB/s eta 0:00:01\n",
      "   -------------------------------------- - 286.7/294.9 kB 2.5 MB/s eta 0:00:01\n",
      "   -------------------------------------- - 286.7/294.9 kB 2.5 MB/s eta 0:00:01\n",
      "   -------------------------------------- - 286.7/294.9 kB 2.5 MB/s eta 0:00:01\n",
      "   -------------------------------------- - 286.7/294.9 kB 2.5 MB/s eta 0:00:01\n",
      "   -------------------------------------- 294.9/294.9 kB 759.1 kB/s eta 0:00:00\n",
      "Installing collected packages: seaborn\n",
      "Successfully installed seaborn-0.13.2\n",
      "Note: you may need to restart the kernel to use updated packages.\n"
     ]
    },
    {
     "name": "stderr",
     "output_type": "stream",
     "text": [
      "\n",
      "[notice] A new release of pip is available: 24.0 -> 24.3.1\n",
      "[notice] To update, run: python.exe -m pip install --upgrade pip\n"
     ]
    }
   ],
   "source": [
    "pip install seaborn"
   ]
  },
  {
   "cell_type": "markdown",
   "metadata": {},
   "source": [
    "# Restart Kernel"
   ]
  },
  {
   "cell_type": "code",
   "execution_count": 1,
   "metadata": {},
   "outputs": [
    {
     "name": "stdout",
     "output_type": "stream",
     "text": [
      "Name: seaborn\n",
      "Version: 0.13.2\n",
      "Summary: Statistical data visualization\n",
      "Home-page: \n",
      "Author: \n",
      "Author-email: Michael Waskom <mwaskom@gmail.com>\n",
      "License: \n",
      "Location: c:\\Users\\Vijaya Nandini\\Documents\\2024_08_Datavalley\\2410_git_repos\\python-data-science-b8\\.venv\\Lib\\site-packages\n",
      "Requires: matplotlib, numpy, pandas\n",
      "Required-by: \n",
      "Note: you may need to restart the kernel to use updated packages.\n"
     ]
    }
   ],
   "source": [
    "pip show seaborn"
   ]
  },
  {
   "cell_type": "code",
   "execution_count": 3,
   "metadata": {},
   "outputs": [
    {
     "data": {
      "text/plain": [
       "'0.13.2'"
      ]
     },
     "execution_count": 3,
     "metadata": {},
     "output_type": "execute_result"
    }
   ],
   "source": [
    "import seaborn as sns\n",
    "sns.__version__"
   ]
  },
  {
   "cell_type": "code",
   "execution_count": 4,
   "metadata": {},
   "outputs": [
    {
     "name": "stdout",
     "output_type": "stream",
     "text": [
      "Collecting scipyNote: you may need to restart the kernel to use updated packages.\n"
     ]
    },
    {
     "name": "stderr",
     "output_type": "stream",
     "text": [
      "\n",
      "[notice] A new release of pip is available: 24.0 -> 24.3.1\n",
      "[notice] To update, run: python.exe -m pip install --upgrade pip\n"
     ]
    },
    {
     "name": "stdout",
     "output_type": "stream",
     "text": [
      "\n",
      "  Downloading scipy-1.14.1-cp311-cp311-win_amd64.whl.metadata (60 kB)\n",
      "     ---------------------------------------- 0.0/60.8 kB ? eta -:--:--\n",
      "     -------------------- ------------------- 30.7/60.8 kB 1.3 MB/s eta 0:00:01\n",
      "     -------------------------------- ----- 51.2/60.8 kB 871.5 kB/s eta 0:00:01\n",
      "     -------------------------------- ----- 51.2/60.8 kB 871.5 kB/s eta 0:00:01\n",
      "     -------------------------------- ----- 51.2/60.8 kB 871.5 kB/s eta 0:00:01\n",
      "     -------------------------------------- 60.8/60.8 kB 324.0 kB/s eta 0:00:00\n",
      "Requirement already satisfied: numpy<2.3,>=1.23.5 in c:\\users\\vijaya nandini\\documents\\2024_08_datavalley\\2410_git_repos\\python-data-science-b8\\.venv\\lib\\site-packages (from scipy) (2.1.2)\n",
      "Downloading scipy-1.14.1-cp311-cp311-win_amd64.whl (44.8 MB)\n",
      "   ---------------------------------------- 0.0/44.8 MB ? eta -:--:--\n",
      "   ---------------------------------------- 0.1/44.8 MB 4.3 MB/s eta 0:00:11\n",
      "   ---------------------------------------- 0.5/44.8 MB 7.3 MB/s eta 0:00:07\n",
      "   - -------------------------------------- 1.2/44.8 MB 10.5 MB/s eta 0:00:05\n",
      "   -- ------------------------------------- 2.3/44.8 MB 15.9 MB/s eta 0:00:03\n",
      "   --- ------------------------------------ 3.4/44.8 MB 19.7 MB/s eta 0:00:03\n",
      "   ---- ----------------------------------- 4.5/44.8 MB 20.5 MB/s eta 0:00:02\n",
      "   ---- ----------------------------------- 5.3/44.8 MB 22.5 MB/s eta 0:00:02\n",
      "   ----- ---------------------------------- 6.3/44.8 MB 22.3 MB/s eta 0:00:02\n",
      "   ------ --------------------------------- 7.3/44.8 MB 23.3 MB/s eta 0:00:02\n",
      "   ------- -------------------------------- 8.4/44.8 MB 23.4 MB/s eta 0:00:02\n",
      "   -------- ------------------------------- 9.2/44.8 MB 23.4 MB/s eta 0:00:02\n",
      "   -------- ------------------------------- 10.0/44.8 MB 23.7 MB/s eta 0:00:02\n",
      "   --------- ------------------------------ 10.8/44.8 MB 26.2 MB/s eta 0:00:02\n",
      "   ---------- ----------------------------- 12.0/44.8 MB 27.3 MB/s eta 0:00:02\n",
      "   ----------- ---------------------------- 13.2/44.8 MB 28.5 MB/s eta 0:00:02\n",
      "   ------------ --------------------------- 14.3/44.8 MB 27.3 MB/s eta 0:00:02\n",
      "   ------------- -------------------------- 15.5/44.8 MB 27.3 MB/s eta 0:00:02\n",
      "   -------------- ------------------------- 16.7/44.8 MB 29.7 MB/s eta 0:00:01\n",
      "   --------------- ------------------------ 17.9/44.8 MB 28.4 MB/s eta 0:00:01\n",
      "   ----------------- ---------------------- 19.0/44.8 MB 29.7 MB/s eta 0:00:01\n",
      "   ------------------ --------------------- 20.2/44.8 MB 31.2 MB/s eta 0:00:01\n",
      "   ------------------- -------------------- 21.4/44.8 MB 32.8 MB/s eta 0:00:01\n",
      "   -------------------- ------------------- 22.5/44.8 MB 31.2 MB/s eta 0:00:01\n",
      "   -------------------- ------------------- 22.7/44.8 MB 32.8 MB/s eta 0:00:01\n",
      "   --------------------- ------------------ 23.9/44.8 MB 29.7 MB/s eta 0:00:01\n",
      "   ---------------------- ----------------- 25.4/44.8 MB 29.7 MB/s eta 0:00:01\n",
      "   ----------------------- ---------------- 26.6/44.8 MB 31.2 MB/s eta 0:00:01\n",
      "   ------------------------ --------------- 27.7/44.8 MB 31.2 MB/s eta 0:00:01\n",
      "   ------------------------- -------------- 28.9/44.8 MB 31.2 MB/s eta 0:00:01\n",
      "   -------------------------- ------------- 30.1/44.8 MB 29.7 MB/s eta 0:00:01\n",
      "   --------------------------- ------------ 31.3/44.8 MB 31.2 MB/s eta 0:00:01\n",
      "   ---------------------------- ----------- 32.1/44.8 MB 29.7 MB/s eta 0:00:01\n",
      "   ----------------------------- ---------- 33.0/44.8 MB 34.4 MB/s eta 0:00:01\n",
      "   ------------------------------- -------- 34.8/44.8 MB 32.7 MB/s eta 0:00:01\n",
      "   -------------------------------- ------- 36.0/44.8 MB 32.8 MB/s eta 0:00:01\n",
      "   --------------------------------- ------ 37.2/44.8 MB 34.4 MB/s eta 0:00:01\n",
      "   ---------------------------------- ----- 38.2/44.8 MB 34.4 MB/s eta 0:00:01\n",
      "   ---------------------------------- ----- 39.0/44.8 MB 32.7 MB/s eta 0:00:01\n",
      "   ------------------------------------ --- 40.4/44.8 MB 32.7 MB/s eta 0:00:01\n",
      "   ------------------------------------- -- 41.5/44.8 MB 31.1 MB/s eta 0:00:01\n",
      "   -------------------------------------- - 42.5/44.8 MB 34.4 MB/s eta 0:00:01\n",
      "   ---------------------------------------  43.7/44.8 MB 32.8 MB/s eta 0:00:01\n",
      "   ---------------------------------------  44.7/44.8 MB 31.2 MB/s eta 0:00:01\n",
      "   ---------------------------------------  44.8/44.8 MB 29.7 MB/s eta 0:00:01\n",
      "   ---------------------------------------  44.8/44.8 MB 27.3 MB/s eta 0:00:01\n",
      "   ---------------------------------------  44.8/44.8 MB 27.3 MB/s eta 0:00:01\n",
      "   ---------------------------------------  44.8/44.8 MB 27.3 MB/s eta 0:00:01\n",
      "   ---------------------------------------  44.8/44.8 MB 27.3 MB/s eta 0:00:01\n",
      "   ---------------------------------------  44.8/44.8 MB 27.3 MB/s eta 0:00:01\n",
      "   ---------------------------------------  44.8/44.8 MB 27.3 MB/s eta 0:00:01\n",
      "   ---------------------------------------  44.8/44.8 MB 27.3 MB/s eta 0:00:01\n",
      "   ---------------------------------------  44.8/44.8 MB 27.3 MB/s eta 0:00:01\n",
      "   ---------------------------------------  44.8/44.8 MB 27.3 MB/s eta 0:00:01\n",
      "   ---------------------------------------  44.8/44.8 MB 27.3 MB/s eta 0:00:01\n",
      "   ---------------------------------------  44.8/44.8 MB 27.3 MB/s eta 0:00:01\n",
      "   ---------------------------------------  44.8/44.8 MB 27.3 MB/s eta 0:00:01\n",
      "   ---------------------------------------  44.8/44.8 MB 27.3 MB/s eta 0:00:01\n",
      "   ---------------------------------------  44.8/44.8 MB 27.3 MB/s eta 0:00:01\n",
      "   ---------------------------------------  44.8/44.8 MB 27.3 MB/s eta 0:00:01\n",
      "   ---------------------------------------  44.8/44.8 MB 27.3 MB/s eta 0:00:01\n",
      "   ---------------------------------------  44.8/44.8 MB 27.3 MB/s eta 0:00:01\n",
      "   ---------------------------------------  44.8/44.8 MB 27.3 MB/s eta 0:00:01\n",
      "   ---------------------------------------  44.8/44.8 MB 27.3 MB/s eta 0:00:01\n",
      "   ---------------------------------------  44.8/44.8 MB 27.3 MB/s eta 0:00:01\n",
      "   ---------------------------------------  44.8/44.8 MB 27.3 MB/s eta 0:00:01\n",
      "   ---------------------------------------  44.8/44.8 MB 27.3 MB/s eta 0:00:01\n",
      "   ---------------------------------------  44.8/44.8 MB 27.3 MB/s eta 0:00:01\n",
      "   ---------------------------------------  44.8/44.8 MB 27.3 MB/s eta 0:00:01\n",
      "   ---------------------------------------  44.8/44.8 MB 27.3 MB/s eta 0:00:01\n",
      "   ---------------------------------------  44.8/44.8 MB 27.3 MB/s eta 0:00:01\n",
      "   ---------------------------------------  44.8/44.8 MB 27.3 MB/s eta 0:00:01\n",
      "   ---------------------------------------  44.8/44.8 MB 27.3 MB/s eta 0:00:01\n",
      "   ---------------------------------------  44.8/44.8 MB 27.3 MB/s eta 0:00:01\n",
      "   ---------------------------------------  44.8/44.8 MB 27.3 MB/s eta 0:00:01\n",
      "   ---------------------------------------  44.8/44.8 MB 27.3 MB/s eta 0:00:01\n",
      "   ---------------------------------------  44.8/44.8 MB 27.3 MB/s eta 0:00:01\n",
      "   ---------------------------------------  44.8/44.8 MB 27.3 MB/s eta 0:00:01\n",
      "   ---------------------------------------  44.8/44.8 MB 27.3 MB/s eta 0:00:01\n",
      "   ---------------------------------------  44.8/44.8 MB 27.3 MB/s eta 0:00:01\n",
      "   ---------------------------------------  44.8/44.8 MB 27.3 MB/s eta 0:00:01\n",
      "   ---------------------------------------  44.8/44.8 MB 27.3 MB/s eta 0:00:01\n",
      "   ---------------------------------------  44.8/44.8 MB 27.3 MB/s eta 0:00:01\n",
      "   ---------------------------------------- 44.8/44.8 MB 5.7 MB/s eta 0:00:00\n",
      "Installing collected packages: scipy\n",
      "Successfully installed scipy-1.14.1\n"
     ]
    }
   ],
   "source": [
    "pip install scipy"
   ]
  },
  {
   "cell_type": "code",
   "execution_count": null,
   "metadata": {},
   "outputs": [],
   "source": []
  }
 ],
 "metadata": {
  "kernelspec": {
   "display_name": ".venv",
   "language": "python",
   "name": "python3"
  },
  "language_info": {
   "codemirror_mode": {
    "name": "ipython",
    "version": 3
   },
   "file_extension": ".py",
   "mimetype": "text/x-python",
   "name": "python",
   "nbconvert_exporter": "python",
   "pygments_lexer": "ipython3",
   "version": "3.11.9"
  }
 },
 "nbformat": 4,
 "nbformat_minor": 2
}
