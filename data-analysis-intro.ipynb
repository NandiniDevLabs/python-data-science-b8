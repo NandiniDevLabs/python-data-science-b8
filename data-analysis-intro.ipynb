{
 "cells": [
  {
   "cell_type": "markdown",
   "metadata": {},
   "source": [
    "# Data Analysis"
   ]
  },
  {
   "cell_type": "markdown",
   "metadata": {},
   "source": [
    "Data Collection\n",
    "Data Pre-processing\n",
    "Data Exploration --> Data Visualization\n",
    "\n",
    "Data helps us to draw conclusions --> \n",
    "\n",
    "--> Data Analysis using Python\n",
    "1. Numpy\n",
    "2. Pandas\n",
    "\n",
    "--> Data Visualization using Python\n",
    "1. Matplotlib\n",
    "2. Seaborn\n",
    "3. Plotly"
   ]
  },
  {
   "cell_type": "markdown",
   "metadata": {},
   "source": []
  }
 ],
 "metadata": {
  "language_info": {
   "name": "python"
  }
 },
 "nbformat": 4,
 "nbformat_minor": 2
}
