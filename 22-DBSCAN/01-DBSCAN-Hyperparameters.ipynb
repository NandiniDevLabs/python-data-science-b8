{
 "cells": [
  {
   "cell_type": "markdown",
   "metadata": {},
   "source": [
    "# DBSCAN Hyperparameters\n",
    "\n",
    "\n",
    "Let's explore the hyperparameters for DBSCAN and how they can change results!"
   ]
  },
  {
   "cell_type": "markdown",
   "metadata": {},
   "source": [
    "## DBSCAN and Clustering Examples"
   ]
  },
  {
   "cell_type": "code",
   "execution_count": null,
   "metadata": {},
   "outputs": [],
   "source": [
    "import numpy as np\n",
    "import pandas as pd\n",
    "import matplotlib.pyplot as plt\n",
    "import seaborn as sns"
   ]
  },
  {
   "cell_type": "code",
   "execution_count": null,
   "metadata": {},
   "outputs": [],
   "source": [
    "two_blobs = pd.read_csv('../DATA/cluster_two_blobs.csv')\n",
    "two_blobs_outliers = pd.read_csv('../DATA/cluster_two_blobs_outliers.csv')"
   ]
  },
  {
   "cell_type": "code",
   "execution_count": null,
   "metadata": {},
   "outputs": [],
   "source": [
    "sns.scatterplot(data=two_blobs,x='X1',y='X2')"
   ]
  },
  {
   "cell_type": "code",
   "execution_count": null,
   "metadata": {},
   "outputs": [],
   "source": [
    "# plt.figure(figsize=(10,6),dpi=200)\n",
    "sns.scatterplot(data=two_blobs_outliers,x='X1',y='X2')"
   ]
  },
  {
   "cell_type": "markdown",
   "metadata": {},
   "source": [
    "## Label Discovery"
   ]
  },
  {
   "cell_type": "code",
   "execution_count": null,
   "metadata": {},
   "outputs": [],
   "source": [
    "def display_categories(model,data):\n",
    "    labels = model.fit_predict(data)\n",
    "    sns.scatterplot(data=data,x='X1',y='X2',hue=labels,palette='Set1')"
   ]
  },
  {
   "cell_type": "markdown",
   "metadata": {},
   "source": [
    "## DBSCAN"
   ]
  },
  {
   "cell_type": "code",
   "execution_count": null,
   "metadata": {},
   "outputs": [],
   "source": [
    "from sklearn.cluster import DBSCAN"
   ]
  },
  {
   "cell_type": "code",
   "execution_count": null,
   "metadata": {},
   "outputs": [],
   "source": [
    "help(DBSCAN)"
   ]
  },
  {
   "cell_type": "code",
   "execution_count": null,
   "metadata": {},
   "outputs": [],
   "source": [
    "dbscan = DBSCAN()"
   ]
  },
  {
   "cell_type": "code",
   "execution_count": null,
   "metadata": {},
   "outputs": [],
   "source": [
    "display_categories(dbscan,two_blobs)"
   ]
  },
  {
   "cell_type": "code",
   "execution_count": null,
   "metadata": {},
   "outputs": [],
   "source": [
    "\n",
    "display_categories(dbscan,two_blobs_outliers)"
   ]
  },
  {
   "cell_type": "markdown",
   "metadata": {},
   "source": [
    "# Epsilon\n",
    "\n",
    "    eps : float, default=0.5\n",
    "     |      The maximum distance between two samples for one to be considered\n",
    "     |      as in the neighborhood of the other. This is not a maximum bound\n",
    "     |      on the distances of points within a cluster. This is the most\n",
    "     |      important DBSCAN parameter to choose appropriately for your data set\n",
    "     |      and distance function."
   ]
  },
  {
   "cell_type": "code",
   "execution_count": null,
   "metadata": {},
   "outputs": [],
   "source": [
    "# Tiny Epsilon --> Tiny Max Distance --> Everything is an outlier (class=-1)\n",
    "dbscan = DBSCAN(eps=0.001)\n",
    "display_categories(dbscan,two_blobs_outliers)"
   ]
  },
  {
   "cell_type": "code",
   "execution_count": null,
   "metadata": {},
   "outputs": [],
   "source": [
    "# Huge Epsilon --> Huge Max Distance --> Everything is in the same cluster (class=0)\n",
    "dbscan = DBSCAN(eps=10)\n",
    "display_categories(dbscan,two_blobs_outliers)"
   ]
  },
  {
   "cell_type": "code",
   "execution_count": null,
   "metadata": {},
   "outputs": [],
   "source": [
    "# How to find a good epsilon?\n",
    "plt.figure(figsize=(10,6),dpi=200)\n",
    "dbscan = DBSCAN(eps=1)\n",
    "display_categories(dbscan,two_blobs_outliers)"
   ]
  },
  {
   "cell_type": "code",
   "execution_count": null,
   "metadata": {},
   "outputs": [],
   "source": [
    "dbscan.labels_"
   ]
  },
  {
   "cell_type": "code",
   "execution_count": null,
   "metadata": {},
   "outputs": [],
   "source": [
    "dbscan.labels_ == -1"
   ]
  },
  {
   "cell_type": "code",
   "execution_count": null,
   "metadata": {},
   "outputs": [],
   "source": [
    "np.sum(dbscan.labels_ == -1)"
   ]
  },
  {
   "cell_type": "code",
   "execution_count": null,
   "metadata": {},
   "outputs": [],
   "source": [
    "100 * np.sum(dbscan.labels_ == -1) / len(dbscan.labels_)"
   ]
  },
  {
   "cell_type": "markdown",
   "metadata": {},
   "source": [
    "## Charting reasonable Epsilon values"
   ]
  },
  {
   "cell_type": "code",
   "execution_count": null,
   "metadata": {},
   "outputs": [],
   "source": [
    "# bend the knee! https://raghavan.usc.edu/papers/kneedle-simplex11.pdf"
   ]
  },
  {
   "cell_type": "code",
   "execution_count": null,
   "metadata": {},
   "outputs": [],
   "source": [
    "# np.arange(start=0.01,stop=10,step=0.01)"
   ]
  },
  {
   "cell_type": "code",
   "execution_count": null,
   "metadata": {},
   "outputs": [],
   "source": [
    "outlier_percent = []\n",
    "number_of_outliers = []\n",
    "\n",
    "for eps in np.linspace(0.001,10,100):\n",
    "    \n",
    "    # Create Model\n",
    "    dbscan = DBSCAN(eps=eps)\n",
    "    dbscan.fit(two_blobs_outliers)\n",
    "    \n",
    "    # Log Number of Outliers\n",
    "    number_of_outliers.append(np.sum(dbscan.labels_ == -1))\n",
    "    \n",
    "    # Log percentage of points that are outliers\n",
    "    perc_outliers = 100 * np.sum(dbscan.labels_ == -1) / len(dbscan.labels_)\n",
    "    \n",
    "    outlier_percent.append(perc_outliers)\n",
    "    "
   ]
  },
  {
   "cell_type": "code",
   "execution_count": null,
   "metadata": {},
   "outputs": [],
   "source": [
    "sns.lineplot(x=np.linspace(0.001,10,100),y=outlier_percent)\n",
    "plt.ylabel(\"Percentage of Points Classified as Outliers\")\n",
    "plt.xlabel(\"Epsilon Value\")"
   ]
  },
  {
   "cell_type": "code",
   "execution_count": null,
   "metadata": {},
   "outputs": [],
   "source": [
    "sns.lineplot(x=np.linspace(0.001,10,100),y=number_of_outliers)\n",
    "plt.ylabel(\"Number of Points Classified as Outliers\")\n",
    "plt.xlabel(\"Epsilon Value\")\n",
    "plt.xlim(0,1)"
   ]
  },
  {
   "cell_type": "markdown",
   "metadata": {},
   "source": [
    "### Do we want to think in terms of percentage targeting instead?\n",
    "\n",
    "If so, you could \"target\" a percentage, like choose a range producing 1%-5% as outliers."
   ]
  },
  {
   "cell_type": "code",
   "execution_count": null,
   "metadata": {},
   "outputs": [],
   "source": [
    "sns.lineplot(x=np.linspace(0.001,10,100),y=outlier_percent)\n",
    "plt.ylabel(\"Percentage of Points Classified as Outliers\")\n",
    "plt.xlabel(\"Epsilon Value\")\n",
    "plt.ylim(0,5)\n",
    "plt.xlim(0,2)\n",
    "plt.hlines(y=1,xmin=0,xmax=2,colors='red',ls='--')"
   ]
  },
  {
   "cell_type": "code",
   "execution_count": null,
   "metadata": {},
   "outputs": [],
   "source": [
    "# How to find a good epsilon?\n",
    "dbscan = DBSCAN(eps=0.4)\n",
    "display_categories(dbscan,two_blobs_outliers)"
   ]
  },
  {
   "cell_type": "markdown",
   "metadata": {},
   "source": [
    "### Do we want to think in terms of number of outliers targeting instead?\n",
    "\n",
    "If so, you could \"target\" a number of outliers, such as 3 points as outliers."
   ]
  },
  {
   "cell_type": "code",
   "execution_count": null,
   "metadata": {},
   "outputs": [],
   "source": [
    "sns.lineplot(x=np.linspace(0.001,10,100),y=number_of_outliers)\n",
    "plt.ylabel(\"Number of Points Classified as Outliers\")\n",
    "plt.xlabel(\"Epsilon Value\")\n",
    "plt.ylim(0,10)\n",
    "plt.xlim(0,6)\n",
    "plt.hlines(y=3,xmin=0,xmax=10,colors='red',ls='--')"
   ]
  },
  {
   "cell_type": "code",
   "execution_count": null,
   "metadata": {},
   "outputs": [],
   "source": [
    "# How to find a good epsilon?\n",
    "dbscan = DBSCAN(eps=0.75)\n",
    "display_categories(dbscan,two_blobs_outliers)"
   ]
  },
  {
   "cell_type": "markdown",
   "metadata": {},
   "source": [
    "## Minimum Samples\n",
    "\n",
    "     |  min_samples : int, default=5\n",
    "     |      The number of samples (or total weight) in a neighborhood for a point\n",
    "     |      to be considered as a core point. This includes the point itself.\n",
    "     \n",
    "\n",
    "How to choose minimum number of points?\n",
    "\n",
    "https://stats.stackexchange.com/questions/88872/a-routine-to-choose-eps-and-minpts-for-dbscan"
   ]
  },
  {
   "cell_type": "code",
   "execution_count": null,
   "metadata": {},
   "outputs": [],
   "source": [
    "outlier_percent = []\n",
    "\n",
    "for n in np.arange(1,100):\n",
    "    \n",
    "    # Create Model\n",
    "    dbscan = DBSCAN(min_samples=n)\n",
    "    dbscan.fit(two_blobs_outliers)\n",
    "    \n",
    "    # Log percentage of points that are outliers\n",
    "    perc_outliers = 100 * np.sum(dbscan.labels_ == -1) / len(dbscan.labels_)\n",
    "    \n",
    "    outlier_percent.append(perc_outliers)\n",
    "    "
   ]
  },
  {
   "cell_type": "code",
   "execution_count": null,
   "metadata": {},
   "outputs": [],
   "source": [
    "sns.lineplot(x=np.arange(1,100),y=outlier_percent)\n",
    "plt.ylabel(\"Percentage of Points Classified as Outliers\")\n",
    "plt.xlabel(\"Minimum Number of Samples\")"
   ]
  },
  {
   "cell_type": "code",
   "execution_count": null,
   "metadata": {},
   "outputs": [],
   "source": [
    "num_dim = two_blobs_outliers.shape[1]\n",
    "\n",
    "dbscan = DBSCAN(min_samples=2*num_dim)\n",
    "display_categories(dbscan,two_blobs_outliers)"
   ]
  },
  {
   "cell_type": "code",
   "execution_count": null,
   "metadata": {},
   "outputs": [],
   "source": [
    "num_dim = two_blobs_outliers.shape[1]\n",
    "\n",
    "dbscan = DBSCAN(eps=0.75,min_samples=2*num_dim)\n",
    "display_categories(dbscan,two_blobs_outliers)"
   ]
  },
  {
   "cell_type": "code",
   "execution_count": null,
   "metadata": {},
   "outputs": [],
   "source": [
    "dbscan = DBSCAN(min_samples=1)\n",
    "display_categories(dbscan,two_blobs_outliers)"
   ]
  },
  {
   "cell_type": "code",
   "execution_count": null,
   "metadata": {},
   "outputs": [],
   "source": [
    "dbscan = DBSCAN(eps=0.75,min_samples=1)\n",
    "display_categories(dbscan,two_blobs_outliers)"
   ]
  },
  {
   "cell_type": "markdown",
   "metadata": {},
   "source": [
    "----"
   ]
  }
 ],
 "metadata": {
  "anaconda-cloud": {},
  "kernelspec": {
   "display_name": ".venv",
   "language": "python",
   "name": "python3"
  },
  "language_info": {
   "codemirror_mode": {
    "name": "ipython",
    "version": 3
   },
   "file_extension": ".py",
   "mimetype": "text/x-python",
   "name": "python",
   "nbconvert_exporter": "python",
   "pygments_lexer": "ipython3",
   "version": "3.11.9"
  }
 },
 "nbformat": 4,
 "nbformat_minor": 1
}
