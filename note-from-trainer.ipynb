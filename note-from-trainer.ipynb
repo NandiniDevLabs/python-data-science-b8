{
 "cells": [
  {
   "cell_type": "markdown",
   "metadata": {},
   "source": [
    "# Links for project ideas\n",
    "\n",
    "Refer the following links for real-time project ideas, and try-out as many projects as possible.\n",
    "### Regression\n",
    "- [Link1](https://www.upgrad.com/blog/linear-regression-project-ideas-topics-for-beginners/)\n",
    "- [Link2](https://www.projectpro.io/article/machine-learning-regression-projects-ideas/501)\n"
   ]
  },
  {
   "cell_type": "markdown",
   "metadata": {},
   "source": []
  }
 ],
 "metadata": {
  "language_info": {
   "name": "python"
  }
 },
 "nbformat": 4,
 "nbformat_minor": 2
}
