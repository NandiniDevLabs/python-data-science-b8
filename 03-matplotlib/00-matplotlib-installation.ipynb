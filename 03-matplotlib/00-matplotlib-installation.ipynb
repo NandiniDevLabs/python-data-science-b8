{
 "cells": [
  {
   "cell_type": "code",
   "execution_count": 1,
   "metadata": {},
   "outputs": [
    {
     "ename": "ModuleNotFoundError",
     "evalue": "No module named 'matplotlib'",
     "output_type": "error",
     "traceback": [
      "\u001b[1;31m---------------------------------------------------------------------------\u001b[0m",
      "\u001b[1;31mModuleNotFoundError\u001b[0m                       Traceback (most recent call last)",
      "Cell \u001b[1;32mIn[1], line 1\u001b[0m\n\u001b[1;32m----> 1\u001b[0m \u001b[38;5;28;01mimport\u001b[39;00m \u001b[38;5;21;01mmatplotlib\u001b[39;00m\u001b[38;5;21;01m.\u001b[39;00m\u001b[38;5;21;01mpyplot\u001b[39;00m \u001b[38;5;28;01mas\u001b[39;00m \u001b[38;5;21;01mplt\u001b[39;00m\n",
      "\u001b[1;31mModuleNotFoundError\u001b[0m: No module named 'matplotlib'"
     ]
    }
   ],
   "source": [
    "import matplotlib.pyplot as plt"
   ]
  },
  {
   "cell_type": "code",
   "execution_count": 1,
   "metadata": {},
   "outputs": [
    {
     "name": "stdout",
     "output_type": "stream",
     "text": [
      "Requirement already satisfied: matplotlib in c:\\users\\vijaya nandini\\documents\\2024_08_datavalley\\2410_git_repos\\python-data-science-b8\\.venv\\lib\\site-packages (3.9.2)\n",
      "Requirement already satisfied: contourpy>=1.0.1 in c:\\users\\vijaya nandini\\documents\\2024_08_datavalley\\2410_git_repos\\python-data-science-b8\\.venv\\lib\\site-packages (from matplotlib) (1.3.1)\n",
      "Requirement already satisfied: cycler>=0.10 in c:\\users\\vijaya nandini\\documents\\2024_08_datavalley\\2410_git_repos\\python-data-science-b8\\.venv\\lib\\site-packages (from matplotlib) (0.12.1)\n",
      "Requirement already satisfied: fonttools>=4.22.0 in c:\\users\\vijaya nandini\\documents\\2024_08_datavalley\\2410_git_repos\\python-data-science-b8\\.venv\\lib\\site-packages (from matplotlib) (4.54.1)\n",
      "Requirement already satisfied: kiwisolver>=1.3.1 in c:\\users\\vijaya nandini\\documents\\2024_08_datavalley\\2410_git_repos\\python-data-science-b8\\.venv\\lib\\site-packages (from matplotlib) (1.4.7)\n",
      "Requirement already satisfied: numpy>=1.23 in c:\\users\\vijaya nandini\\documents\\2024_08_datavalley\\2410_git_repos\\python-data-science-b8\\.venv\\lib\\site-packages (from matplotlib) (2.1.2)\n",
      "Requirement already satisfied: packaging>=20.0 in c:\\users\\vijaya nandini\\documents\\2024_08_datavalley\\2410_git_repos\\python-data-science-b8\\.venv\\lib\\site-packages (from matplotlib) (24.1)\n",
      "Requirement already satisfied: pillow>=8 in c:\\users\\vijaya nandini\\documents\\2024_08_datavalley\\2410_git_repos\\python-data-science-b8\\.venv\\lib\\site-packages (from matplotlib) (11.0.0)\n",
      "Requirement already satisfied: pyparsing>=2.3.1 in c:\\users\\vijaya nandini\\documents\\2024_08_datavalley\\2410_git_repos\\python-data-science-b8\\.venv\\lib\\site-packages (from matplotlib) (3.2.0)\n",
      "Requirement already satisfied: python-dateutil>=2.7 in c:\\users\\vijaya nandini\\documents\\2024_08_datavalley\\2410_git_repos\\python-data-science-b8\\.venv\\lib\\site-packages (from matplotlib) (2.9.0.post0)\n",
      "Requirement already satisfied: six>=1.5 in c:\\users\\vijaya nandini\\documents\\2024_08_datavalley\\2410_git_repos\\python-data-science-b8\\.venv\\lib\\site-packages (from python-dateutil>=2.7->matplotlib) (1.16.0)\n",
      "Note: you may need to restart the kernel to use updated packages.\n"
     ]
    },
    {
     "name": "stderr",
     "output_type": "stream",
     "text": [
      "\n",
      "[notice] A new release of pip is available: 24.0 -> 24.3.1\n",
      "[notice] To update, run: python.exe -m pip install --upgrade pip\n"
     ]
    }
   ],
   "source": [
    "pip install matplotlib"
   ]
  },
  {
   "cell_type": "markdown",
   "metadata": {},
   "source": [
    "# Restart the Kernel"
   ]
  },
  {
   "cell_type": "code",
   "execution_count": 1,
   "metadata": {},
   "outputs": [
    {
     "name": "stdout",
     "output_type": "stream",
     "text": [
      "Name: matplotlib\n",
      "Version: 3.9.2\n",
      "Summary: Python plotting package\n",
      "Home-page: \n",
      "Author: John D. Hunter, Michael Droettboom\n",
      "Author-email: Unknown <matplotlib-users@python.org>\n",
      "License: License agreement for matplotlib versions 1.3.0 and later\n",
      "=========================================================\n",
      "\n",
      "1. This LICENSE AGREEMENT is between the Matplotlib Development Team\n",
      "(\"MDT\"), and the Individual or Organization (\"Licensee\") accessing and\n",
      "otherwise using matplotlib software in source or binary form and its\n",
      "associated documentation.\n",
      "\n",
      "2. Subject to the terms and conditions of this License Agreement, MDT\n",
      "hereby grants Licensee a nonexclusive, royalty-free, world-wide license\n",
      "to reproduce, analyze, test, perform and/or display publicly, prepare\n",
      "derivative works, distribute, and otherwise use matplotlib\n",
      "alone or in any derivative version, provided, however, that MDT's\n",
      "License Agreement and MDT's notice of copyright, i.e., \"Copyright (c)\n",
      "2012- Matplotlib Development Team; All Rights Reserved\" are retained in\n",
      "matplotlib  alone or in any derivative version prepared by\n",
      "Licensee.\n",
      "\n",
      "3. In the event Licensee prepares a derivative work that is based on or\n",
      "incorporates matplotlib or any part thereof, and wants to\n",
      "make the derivative work available to others as provided herein, then\n",
      "Licensee hereby agrees to include in any such work a brief summary of\n",
      "the changes made to matplotlib .\n",
      "\n",
      "4. MDT is making matplotlib available to Licensee on an \"AS\n",
      "IS\" basis.  MDT MAKES NO REPRESENTATIONS OR WARRANTIES, EXPRESS OR\n",
      "IMPLIED.  BY WAY OF EXAMPLE, BUT NOT LIMITATION, MDT MAKES NO AND\n",
      "DISCLAIMS ANY REPRESENTATION OR WARRANTY OF MERCHANTABILITY OR FITNESS\n",
      "FOR ANY PARTICULAR PURPOSE OR THAT THE USE OF MATPLOTLIB\n",
      "WILL NOT INFRINGE ANY THIRD PARTY RIGHTS.\n",
      "\n",
      "5. MDT SHALL NOT BE LIABLE TO LICENSEE OR ANY OTHER USERS OF MATPLOTLIB\n",
      " FOR ANY INCIDENTAL, SPECIAL, OR CONSEQUENTIAL DAMAGES OR\n",
      "LOSS AS A RESULT OF MODIFYING, DISTRIBUTING, OR OTHERWISE USING\n",
      "MATPLOTLIB , OR ANY DERIVATIVE THEREOF, EVEN IF ADVISED OF\n",
      "THE POSSIBILITY THEREOF.\n",
      "\n",
      "6. This License Agreement will automatically terminate upon a material\n",
      "breach of its terms and conditions.\n",
      "\n",
      "7. Nothing in this License Agreement shall be deemed to create any\n",
      "relationship of agency, partnership, or joint venture between MDT and\n",
      "Licensee.  This License Agreement does not grant permission to use MDT\n",
      "trademarks or trade name in a trademark sense to endorse or promote\n",
      "products or services of Licensee, or any third party.\n",
      "\n",
      "8. By copying, installing or otherwise using matplotlib ,\n",
      "Licensee agrees to be bound by the terms and conditions of this License\n",
      "Agreement.\n",
      "\n",
      "License agreement for matplotlib versions prior to 1.3.0\n",
      "========================================================\n",
      "\n",
      "1. This LICENSE AGREEMENT is between John D. Hunter (\"JDH\"), and the\n",
      "Individual or Organization (\"Licensee\") accessing and otherwise using\n",
      "matplotlib software in source or binary form and its associated\n",
      "documentation.\n",
      "\n",
      "2. Subject to the terms and conditions of this License Agreement, JDH\n",
      "hereby grants Licensee a nonexclusive, royalty-free, world-wide license\n",
      "to reproduce, analyze, test, perform and/or display publicly, prepare\n",
      "derivative works, distribute, and otherwise use matplotlib\n",
      "alone or in any derivative version, provided, however, that JDH's\n",
      "License Agreement and JDH's notice of copyright, i.e., \"Copyright (c)\n",
      "2002-2011 John D. Hunter; All Rights Reserved\" are retained in\n",
      "matplotlib  alone or in any derivative version prepared by\n",
      "Licensee.\n",
      "\n",
      "3. In the event Licensee prepares a derivative work that is based on or\n",
      "incorporates matplotlib  or any part thereof, and wants to\n",
      "make the derivative work available to others as provided herein, then\n",
      "Licensee hereby agrees to include in any such work a brief summary of\n",
      "the changes made to matplotlib.\n",
      "\n",
      "4. JDH is making matplotlib  available to Licensee on an \"AS\n",
      "IS\" basis.  JDH MAKES NO REPRESENTATIONS OR WARRANTIES, EXPRESS OR\n",
      "IMPLIED.  BY WAY OF EXAMPLE, BUT NOT LIMITATION, JDH MAKES NO AND\n",
      "DISCLAIMS ANY REPRESENTATION OR WARRANTY OF MERCHANTABILITY OR FITNESS\n",
      "FOR ANY PARTICULAR PURPOSE OR THAT THE USE OF MATPLOTLIB\n",
      "WILL NOT INFRINGE ANY THIRD PARTY RIGHTS.\n",
      "\n",
      "5. JDH SHALL NOT BE LIABLE TO LICENSEE OR ANY OTHER USERS OF MATPLOTLIB\n",
      " FOR ANY INCIDENTAL, SPECIAL, OR CONSEQUENTIAL DAMAGES OR\n",
      "LOSS AS A RESULT OF MODIFYING, DISTRIBUTING, OR OTHERWISE USING\n",
      "MATPLOTLIB , OR ANY DERIVATIVE THEREOF, EVEN IF ADVISED OF\n",
      "THE POSSIBILITY THEREOF.\n",
      "\n",
      "6. This License Agreement will automatically terminate upon a material\n",
      "breach of its terms and conditions.\n",
      "\n",
      "7. Nothing in this License Agreement shall be deemed to create any\n",
      "relationship of agency, partnership, or joint venture between JDH and\n",
      "Licensee.  This License Agreement does not grant permission to use JDH\n",
      "trademarks or trade name in a trademark sense to endorse or promote\n",
      "products or services of Licensee, or any third party.\n",
      "\n",
      "8. By copying, installing or otherwise using matplotlib,\n",
      "Licensee agrees to be bound by the terms and conditions of this License\n",
      "Agreement.\n",
      "Location: c:\\Users\\Vijaya Nandini\\Documents\\2024_08_Datavalley\\2410_git_repos\\python-data-science-b8\\.venv\\Lib\\site-packages\n",
      "Requires: contourpy, cycler, fonttools, kiwisolver, numpy, packaging, pillow, pyparsing, python-dateutil\n",
      "Required-by: \n",
      "Note: you may need to restart the kernel to use updated packages.\n"
     ]
    }
   ],
   "source": [
    "pip show matplotlib"
   ]
  },
  {
   "cell_type": "code",
   "execution_count": null,
   "metadata": {},
   "outputs": [],
   "source": [
    "import matplotlib.pyplot as plt"
   ]
  }
 ],
 "metadata": {
  "kernelspec": {
   "display_name": ".venv",
   "language": "python",
   "name": "python3"
  },
  "language_info": {
   "codemirror_mode": {
    "name": "ipython",
    "version": 3
   },
   "file_extension": ".py",
   "mimetype": "text/x-python",
   "name": "python",
   "nbconvert_exporter": "python",
   "pygments_lexer": "ipython3",
   "version": "3.11.9"
  }
 },
 "nbformat": 4,
 "nbformat_minor": 2
}
