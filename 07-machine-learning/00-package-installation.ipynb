{
 "cells": [
  {
   "cell_type": "markdown",
   "metadata": {},
   "source": [
    "# Scikit Learn Package Installation Instructions"
   ]
  },
  {
   "cell_type": "code",
   "execution_count": 1,
   "metadata": {},
   "outputs": [
    {
     "ename": "ModuleNotFoundError",
     "evalue": "No module named 'sklearn'",
     "output_type": "error",
     "traceback": [
      "\u001b[1;31m---------------------------------------------------------------------------\u001b[0m",
      "\u001b[1;31mModuleNotFoundError\u001b[0m                       Traceback (most recent call last)",
      "Cell \u001b[1;32mIn[1], line 1\u001b[0m\n\u001b[1;32m----> 1\u001b[0m \u001b[38;5;28;01mimport\u001b[39;00m \u001b[38;5;21;01msklearn\u001b[39;00m\n\u001b[0;32m      2\u001b[0m \u001b[38;5;28mprint\u001b[39m(sklearn\u001b[38;5;241m.\u001b[39m__version__)\n",
      "\u001b[1;31mModuleNotFoundError\u001b[0m: No module named 'sklearn'"
     ]
    }
   ],
   "source": [
    "import sklearn\n",
    "print(sklearn.__version__)"
   ]
  },
  {
   "cell_type": "code",
   "execution_count": 2,
   "metadata": {},
   "outputs": [
    {
     "name": "stdout",
     "output_type": "stream",
     "text": [
      "Collecting scikit-learn\n",
      "  Downloading scikit_learn-1.5.2-cp311-cp311-win_amd64.whl.metadata (13 kB)\n",
      "Requirement already satisfied: numpy>=1.19.5 in c:\\users\\vijaya nandini\\documents\\2024_08_datavalley\\2410_git_repos\\python-data-science-b8\\.venv\\lib\\site-packages (from scikit-learn) (2.1.2)\n",
      "Requirement already satisfied: scipy>=1.6.0 in c:\\users\\vijaya nandini\\documents\\2024_08_datavalley\\2410_git_repos\\python-data-science-b8\\.venv\\lib\\site-packages (from scikit-learn) (1.14.1)\n",
      "Collecting joblib>=1.2.0 (from scikit-learn)\n",
      "  Downloading joblib-1.4.2-py3-none-any.whl.metadata (5.4 kB)\n",
      "Collecting threadpoolctl>=3.1.0 (from scikit-learn)\n",
      "  Downloading threadpoolctl-3.5.0-py3-none-any.whl.metadata (13 kB)\n",
      "Downloading scikit_learn-1.5.2-cp311-cp311-win_amd64.whl (11.0 MB)\n",
      "   ---------------------------------------- 0.0/11.0 MB ? eta -:--:--\n",
      "   ---------------------------------------- 0.0/11.0 MB ? eta -:--:--\n",
      "   ---------------------------------------- 0.0/11.0 MB ? eta -:--:--\n",
      "    --------------------------------------- 0.1/11.0 MB 944.1 kB/s eta 0:00:12\n",
      "    --------------------------------------- 0.2/11.0 MB 1.4 MB/s eta 0:00:08\n",
      "   - -------------------------------------- 0.3/11.0 MB 1.6 MB/s eta 0:00:07\n",
      "   - -------------------------------------- 0.5/11.0 MB 2.1 MB/s eta 0:00:06\n",
      "   -- ------------------------------------- 0.7/11.0 MB 2.5 MB/s eta 0:00:05\n",
      "   --- ------------------------------------ 1.0/11.0 MB 3.2 MB/s eta 0:00:04\n",
      "   ----- ---------------------------------- 1.5/11.0 MB 4.2 MB/s eta 0:00:03\n",
      "   ------ --------------------------------- 1.8/11.0 MB 4.8 MB/s eta 0:00:02\n",
      "   -------- ------------------------------- 2.2/11.0 MB 5.3 MB/s eta 0:00:02\n",
      "   ---------- ----------------------------- 2.9/11.0 MB 6.5 MB/s eta 0:00:02\n",
      "   -------------- ------------------------- 3.9/11.0 MB 8.0 MB/s eta 0:00:01\n",
      "   ---------------- ----------------------- 4.5/11.0 MB 8.5 MB/s eta 0:00:01\n",
      "   ------------------ --------------------- 5.0/11.0 MB 8.9 MB/s eta 0:00:01\n",
      "   ---------------------- ----------------- 6.1/11.0 MB 10.2 MB/s eta 0:00:01\n",
      "   -------------------------- ------------- 7.2/11.0 MB 11.2 MB/s eta 0:00:01\n",
      "   ------------------------------ --------- 8.3/11.0 MB 12.4 MB/s eta 0:00:01\n",
      "   ---------------------------------- ----- 9.5/11.0 MB 13.5 MB/s eta 0:00:01\n",
      "   -------------------------------------- - 10.5/11.0 MB 18.7 MB/s eta 0:00:01\n",
      "   ---------------------------------------  11.0/11.0 MB 21.8 MB/s eta 0:00:01\n",
      "   ---------------------------------------  11.0/11.0 MB 21.8 MB/s eta 0:00:01\n",
      "   ---------------------------------------  11.0/11.0 MB 21.8 MB/s eta 0:00:01\n",
      "   ---------------------------------------  11.0/11.0 MB 21.8 MB/s eta 0:00:01\n",
      "   ---------------------------------------  11.0/11.0 MB 21.8 MB/s eta 0:00:01\n",
      "   ---------------------------------------  11.0/11.0 MB 21.8 MB/s eta 0:00:01\n",
      "   ---------------------------------------  11.0/11.0 MB 21.8 MB/s eta 0:00:01\n",
      "   ---------------------------------------  11.0/11.0 MB 21.8 MB/s eta 0:00:01\n",
      "   ---------------------------------------  11.0/11.0 MB 21.8 MB/s eta 0:00:01\n",
      "   ---------------------------------------  11.0/11.0 MB 21.8 MB/s eta 0:00:01\n",
      "   ---------------------------------------  11.0/11.0 MB 21.8 MB/s eta 0:00:01\n",
      "   ---------------------------------------  11.0/11.0 MB 21.8 MB/s eta 0:00:01\n",
      "   ---------------------------------------  11.0/11.0 MB 21.8 MB/s eta 0:00:01\n",
      "   ---------------------------------------  11.0/11.0 MB 21.8 MB/s eta 0:00:01\n",
      "   ---------------------------------------  11.0/11.0 MB 21.8 MB/s eta 0:00:01\n",
      "   ---------------------------------------- 11.0/11.0 MB 10.1 MB/s eta 0:00:00\n",
      "Downloading joblib-1.4.2-py3-none-any.whl (301 kB)\n",
      "   ---------------------------------------- 0.0/301.8 kB ? eta -:--:--\n",
      "   ---------------------------------------  297.0/301.8 kB ? eta -:--:--\n",
      "   ---------------------------------------  297.0/301.8 kB ? eta -:--:--\n",
      "   ---------------------------------------  297.0/301.8 kB ? eta -:--:--\n",
      "   ---------------------------------------  297.0/301.8 kB ? eta -:--:--\n",
      "   ---------------------------------------  297.0/301.8 kB ? eta -:--:--\n",
      "   ---------------------------------------  297.0/301.8 kB ? eta -:--:--\n",
      "   ---------------------------------------  297.0/301.8 kB ? eta -:--:--\n",
      "   ---------------------------------------  297.0/301.8 kB ? eta -:--:--\n",
      "   ---------------------------------------  297.0/301.8 kB ? eta -:--:--\n",
      "   -------------------------------------- 301.8/301.8 kB 889.0 kB/s eta 0:00:00\n",
      "Downloading threadpoolctl-3.5.0-py3-none-any.whl (18 kB)\n",
      "Installing collected packages: threadpoolctl, joblib, scikit-learn\n",
      "Successfully installed joblib-1.4.2 scikit-learn-1.5.2 threadpoolctl-3.5.0\n",
      "Note: you may need to restart the kernel to use updated packages.\n"
     ]
    },
    {
     "name": "stderr",
     "output_type": "stream",
     "text": [
      "\n",
      "[notice] A new release of pip is available: 24.0 -> 24.3.1\n",
      "[notice] To update, run: python.exe -m pip install --upgrade pip\n"
     ]
    }
   ],
   "source": [
    "pip install scikit-learn"
   ]
  },
  {
   "cell_type": "markdown",
   "metadata": {},
   "source": [
    "# Restart Kernel"
   ]
  },
  {
   "cell_type": "code",
   "execution_count": 1,
   "metadata": {},
   "outputs": [
    {
     "name": "stdout",
     "output_type": "stream",
     "text": [
      "Name: scikit-learn\n",
      "Version: 1.5.2\n",
      "Summary: A set of python modules for machine learning and data mining\n",
      "Home-page: https://scikit-learn.org\n",
      "Author: \n",
      "Author-email: \n",
      "License: BSD 3-Clause License\n",
      "\n",
      "Copyright (c) 2007-2024 The scikit-learn developers.\n",
      "All rights reserved.\n",
      "\n",
      "Redistribution and use in source and binary forms, with or without\n",
      "modification, are permitted provided that the following conditions are met:\n",
      "\n",
      "* Redistributions of source code must retain the above copyright notice, this\n",
      "  list of conditions and the following disclaimer.\n",
      "\n",
      "* Redistributions in binary form must reproduce the above copyright notice,\n",
      "  this list of conditions and the following disclaimer in the documentation\n",
      "  and/or other materials provided with the distribution.\n",
      "\n",
      "* Neither the name of the copyright holder nor the names of its\n",
      "  contributors may be used to endorse or promote products derived from\n",
      "  this software without specific prior written permission.\n",
      "\n",
      "THIS SOFTWARE IS PROVIDED BY THE COPYRIGHT HOLDERS AND CONTRIBUTORS \"AS IS\"\n",
      "AND ANY EXPRESS OR IMPLIED WARRANTIES, INCLUDING, BUT NOT LIMITED TO, THE\n",
      "IMPLIED WARRANTIES OF MERCHANTABILITY AND FITNESS FOR A PARTICULAR PURPOSE ARE\n",
      "DISCLAIMED. IN NO EVENT SHALL THE COPYRIGHT HOLDER OR CONTRIBUTORS BE LIABLE\n",
      "FOR ANY DIRECT, INDIRECT, INCIDENTAL, SPECIAL, EXEMPLARY, OR CONSEQUENTIAL\n",
      "DAMAGES (INCLUDING, BUT NOT LIMITED TO, PROCUREMENT OF SUBSTITUTE GOODS OR\n",
      "SERVICES; LOSS OF USE, DATA, OR PROFITS; OR BUSINESS INTERRUPTION) HOWEVER\n",
      "CAUSED AND ON ANY THEORY OF LIABILITY, WHETHER IN CONTRACT, STRICT LIABILITY,\n",
      "OR TORT (INCLUDING NEGLIGENCE OR OTHERWISE) ARISING IN ANY WAY OUT OF THE USE\n",
      "OF THIS SOFTWARE, EVEN IF ADVISED OF THE POSSIBILITY OF SUCH DAMAGE.\n",
      "Location: c:\\Users\\Vijaya Nandini\\Documents\\2024_08_Datavalley\\2410_git_repos\\python-data-science-b8\\.venv\\Lib\\site-packages\n",
      "Requires: joblib, numpy, scipy, threadpoolctl\n",
      "Required-by: \n",
      "Note: you may need to restart the kernel to use updated packages.\n"
     ]
    }
   ],
   "source": [
    "pip show scikit-learn"
   ]
  },
  {
   "cell_type": "code",
   "execution_count": 2,
   "metadata": {},
   "outputs": [
    {
     "name": "stdout",
     "output_type": "stream",
     "text": [
      "1.5.2\n"
     ]
    }
   ],
   "source": [
    "import sklearn\n",
    "print(sklearn.__version__)"
   ]
  },
  {
   "cell_type": "code",
   "execution_count": 3,
   "metadata": {},
   "outputs": [],
   "source": [
    "# https://www.kaggle.com/datasets/yasserh/housing-prices-dataset"
   ]
  },
  {
   "cell_type": "code",
   "execution_count": null,
   "metadata": {},
   "outputs": [],
   "source": []
  }
 ],
 "metadata": {
  "kernelspec": {
   "display_name": ".venv",
   "language": "python",
   "name": "python3"
  },
  "language_info": {
   "codemirror_mode": {
    "name": "ipython",
    "version": 3
   },
   "file_extension": ".py",
   "mimetype": "text/x-python",
   "name": "python",
   "nbconvert_exporter": "python",
   "pygments_lexer": "ipython3",
   "version": "3.11.9"
  }
 },
 "nbformat": 4,
 "nbformat_minor": 2
}
