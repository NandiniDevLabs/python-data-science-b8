{
 "cells": [
  {
   "cell_type": "markdown",
   "metadata": {},
   "source": [
    "# Python Data Science Cheat Sheet"
   ]
  },
  {
   "cell_type": "markdown",
   "metadata": {},
   "source": [
    "https://www.utc.fr/~jlaforet/Suppl/python-cheatsheets.pdf"
   ]
  },
  {
   "cell_type": "markdown",
   "metadata": {},
   "source": [
    "# Recommendatation\n",
    "1. Check cheat sheet of each python library\n",
    "2. Practice functions - understand the syntax \n",
    "3. In case of any errors, just google it"
   ]
  },
  {
   "cell_type": "markdown",
   "metadata": {},
   "source": [
    "# Additional Reference\n",
    "- https://github.com/peggy1502/Amazing-Resources/blob/main/DataCamp%20-%20Python%20For%20Data%20Science%20Cheat%20Sheet.pdf"
   ]
  },
  {
   "cell_type": "markdown",
   "metadata": {},
   "source": [
    "# Youtube References\n",
    "- Check this channel: StatQuest with Josh Starmer --> Machine Learning Playlist\n",
    "- And ebook - Statquest **Illustrated Guide to Machine learning** for the same author **Josh Starmer**"
   ]
  },
  {
   "cell_type": "code",
   "execution_count": null,
   "metadata": {
    "vscode": {
     "languageId": "plaintext"
    }
   },
   "outputs": [],
   "source": []
  }
 ],
 "metadata": {
  "language_info": {
   "name": "python"
  }
 },
 "nbformat": 4,
 "nbformat_minor": 2
}
